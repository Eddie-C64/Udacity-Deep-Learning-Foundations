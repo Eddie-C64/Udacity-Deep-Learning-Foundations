{
 "cells": [
  {
   "cell_type": "markdown",
   "metadata": {
    "collapsed": true
   },
   "source": [
    "# Image Classification\n",
    "In this project, you'll classify images from the [CIFAR-10 dataset](https://www.cs.toronto.edu/~kriz/cifar.html).  The dataset consists of airplanes, dogs, cats, and other objects. You'll preprocess the images, then train a convolutional neural network on all the samples. The images need to be normalized and the labels need to be one-hot encoded.  You'll get to apply what you learned and build a convolutional, max pooling, dropout, and fully connected layers.  At the end, you'll get to see your neural network's predictions on the sample images.\n",
    "## Get the Data\n",
    "Run the following cell to download the [CIFAR-10 dataset for python](https://www.cs.toronto.edu/~kriz/cifar-10-python.tar.gz)."
   ]
  },
  {
   "cell_type": "code",
   "execution_count": 1,
   "metadata": {},
   "outputs": [
    {
     "name": "stdout",
     "output_type": "stream",
     "text": [
      "All files found!\n"
     ]
    }
   ],
   "source": [
    "\"\"\"\n",
    "DON'T MODIFY ANYTHING IN THIS CELL THAT IS BELOW THIS LINE\n",
    "\"\"\"\n",
    "from urllib.request import urlretrieve\n",
    "from os.path import isfile, isdir\n",
    "from tqdm import tqdm\n",
    "import problem_unittests as tests\n",
    "import tarfile\n",
    "from sklearn.preprocessing import OneHotEncoder\n",
    "\n",
    "cifar10_dataset_folder_path = 'cifar-10-batches-py'\n",
    "\n",
    "# Use Floyd's cifar-10 dataset if present\n",
    "floyd_cifar10_location = '/input/cifar-10/python.tar.gz'\n",
    "if isfile(floyd_cifar10_location):\n",
    "    tar_gz_path = floyd_cifar10_location\n",
    "else:\n",
    "    tar_gz_path = 'cifar-10-python.tar.gz'\n",
    "\n",
    "class DLProgress(tqdm):\n",
    "    last_block = 0\n",
    "\n",
    "    def hook(self, block_num=1, block_size=1, total_size=None):\n",
    "        self.total = total_size\n",
    "        self.update((block_num - self.last_block) * block_size)\n",
    "        self.last_block = block_num\n",
    "\n",
    "if not isfile(tar_gz_path):\n",
    "    with DLProgress(unit='B', unit_scale=True, miniters=1, desc='CIFAR-10 Dataset') as pbar:\n",
    "        urlretrieve(\n",
    "            'https://www.cs.toronto.edu/~kriz/cifar-10-python.tar.gz',\n",
    "            tar_gz_path,\n",
    "            pbar.hook)\n",
    "\n",
    "if not isdir(cifar10_dataset_folder_path):\n",
    "    with tarfile.open(tar_gz_path) as tar:\n",
    "        tar.extractall()\n",
    "        tar.close()\n",
    "\n",
    "\n",
    "tests.test_folder_path(cifar10_dataset_folder_path)"
   ]
  },
  {
   "cell_type": "markdown",
   "metadata": {},
   "source": [
    "## Explore the Data\n",
    "The dataset is broken into batches to prevent your machine from running out of memory.  The CIFAR-10 dataset consists of 5 batches, named `data_batch_1`, `data_batch_2`, etc.. Each batch contains the labels and images that are one of the following:\n",
    "* airplane\n",
    "* automobile\n",
    "* bird\n",
    "* cat\n",
    "* deer\n",
    "* dog\n",
    "* frog\n",
    "* horse\n",
    "* ship\n",
    "* truck\n",
    "\n",
    "Understanding a dataset is part of making predictions on the data.  Play around with the code cell below by changing the `batch_id` and `sample_id`. The `batch_id` is the id for a batch (1-5). The `sample_id` is the id for a image and label pair in the batch.\n",
    "\n",
    "Ask yourself \"What are all possible labels?\", \"What is the range of values for the image data?\", \"Are the labels in order or random?\".  Answers to questions like these will help you preprocess the data and end up with better predictions."
   ]
  },
  {
   "cell_type": "code",
   "execution_count": 2,
   "metadata": {},
   "outputs": [
    {
     "name": "stdout",
     "output_type": "stream",
     "text": [
      "\n",
      "Stats of batch 1:\n",
      "Samples: 10000\n",
      "Label Counts: {0: 1005, 1: 974, 2: 1032, 3: 1016, 4: 999, 5: 937, 6: 1030, 7: 1001, 8: 1025, 9: 981}\n",
      "First 20 Labels: [6, 9, 9, 4, 1, 1, 2, 7, 8, 3, 4, 7, 7, 2, 9, 9, 9, 3, 2, 6]\n",
      "\n",
      "Example of Image 5:\n",
      "Image - Min Value: 0 Max Value: 252\n",
      "Image - Shape: (32, 32, 3)\n",
      "Label - Label Id: 1 Name: automobile\n"
     ]
    },
    {
     "data": {
      "image/png": "[encoded data removed]",
      "text/plain": [
       "<matplotlib.figure.Figure at 0x11dc09518>"
      ]
     },
     "metadata": {
      "image/png": {
       "height": 250,
       "width": 253
      }
     },
     "output_type": "display_data"
    }
   ],
   "source": [
    "%matplotlib inline\n",
    "%config InlineBackend.figure_format = 'retina'\n",
    "\n",
    "import helper\n",
    "import numpy as np\n",
    "\n",
    "# Explore the dataset\n",
    "batch_id = 1\n",
    "sample_id = 5\n",
    "helper.display_stats(cifar10_dataset_folder_path, batch_id, sample_id)"
   ]
  },
  {
   "cell_type": "markdown",
   "metadata": {},
   "source": [
    "## Implement Preprocess Functions\n",
    "### Normalize\n",
    "In the cell below, implement the `normalize` function to take in image data, `x`, and return it as a normalized Numpy array. The values should be in the range of 0 to 1, inclusive.  The return object should be the same shape as `x`."
   ]
  },
  {
   "cell_type": "code",
   "execution_count": 3,
   "metadata": {},
   "outputs": [
    {
     "name": "stdout",
     "output_type": "stream",
     "text": [
      "Tests Passed\n"
     ]
    }
   ],
   "source": [
    "def normalize(x):\n",
    "    \"\"\"\n",
    "    Normalize a list of sample image data in the range of 0 to 1\n",
    "    : x: List of image data.  The image shape is (32, 32, 3)\n",
    "    : return: Numpy array of normalize data\n",
    "    \"\"\"\n",
    "    return np.array(x)/255.0\n",
    "\n",
    "\n",
    "\"\"\"\n",
    "DON'T MODIFY ANYTHING IN THIS CELL THAT IS BELOW THIS LINE\n",
    "\"\"\"\n",
    "tests.test_normalize(normalize)"
   ]
  },
  {
   "cell_type": "markdown",
   "metadata": {},
   "source": [
    "### One-hot encode\n",
    "Just like the previous code cell, you'll be implementing a function for preprocessing.  This time, you'll implement the `one_hot_encode` function. The input, `x`, are a list of labels.  Implement the function to return the list of labels as One-Hot encoded Numpy array.  The possible values for labels are 0 to 9. The one-hot encoding function should return the same encoding for each value between each call to `one_hot_encode`.  Make sure to save the map of encodings outside the function.\n",
    "\n",
    "Hint: Don't reinvent the wheel."
   ]
  },
  {
   "cell_type": "code",
   "execution_count": 4,
   "metadata": {},
   "outputs": [
    {
     "name": "stdout",
     "output_type": "stream",
     "text": [
      "Tests Passed\n"
     ]
    }
   ],
   "source": [
    "def one_hot_encode(x):\n",
    "    \"\"\"\n",
    "    One hot encode a list of sample labels. Return a one-hot encoded vector for each label.\n",
    "    : x: List of sample Labels\n",
    "    : return: Numpy array of one-hot encoded labels\n",
    "    \"\"\"\n",
    "    x = np.array(x)[:, np.newaxis]\n",
    "    encoder = OneHotEncoder(n_values=10, sparse=False)\n",
    "    return encoder.fit_transform(x)\n",
    "\n",
    "\"\"\"\n",
    "DON'T MODIFY ANYTHING IN THIS CELL THAT IS BELOW THIS LINE\n",
    "\"\"\"\n",
    "tests.test_one_hot_encode(one_hot_encode)"
   ]
  },
  {
   "cell_type": "markdown",
   "metadata": {},
   "source": [
    "### Randomize Data\n",
    "As you saw from exploring the data above, the order of the samples are randomized.  It doesn't hurt to randomize it again, but you don't need to for this dataset."
   ]
  },
  {
   "cell_type": "markdown",
   "metadata": {},
   "source": [
    "## Preprocess all the data and save it\n",
    "Running the code cell below will preprocess all the CIFAR-10 data and save it to file. The code below also uses 10% of the training data for validation."
   ]
  },
  {
   "cell_type": "code",
   "execution_count": 5,
   "metadata": {
    "collapsed": true
   },
   "outputs": [],
   "source": [
    "\"\"\"\n",
    "DON'T MODIFY ANYTHING IN THIS CELL\n",
    "\"\"\"\n",
    "# Preprocess Training, Validation, and Testing Data\n",
    "helper.preprocess_and_save_data(cifar10_dataset_folder_path, normalize, one_hot_encode)"
   ]
  },
  {
   "cell_type": "markdown",
   "metadata": {},
   "source": [
    "# Check Point\n",
    "This is your first checkpoint.  If you ever decide to come back to this notebook or have to restart the notebook, you can start from here.  The preprocessed data has been saved to disk."
   ]
  },
  {
   "cell_type": "code",
   "execution_count": 6,
   "metadata": {
    "collapsed": true
   },
   "outputs": [],
   "source": [
    "\"\"\"\n",
    "DON'T MODIFY ANYTHING IN THIS CELL\n",
    "\"\"\"\n",
    "import pickle\n",
    "import problem_unittests as tests\n",
    "import helper\n",
    "\n",
    "# Load the Preprocessed Validation data\n",
    "valid_features, valid_labels = pickle.load(open('preprocess_validation.p', mode='rb'))"
   ]
  },
  {
   "cell_type": "markdown",
   "metadata": {},
   "source": [
    "## Build the network\n",
    "For the neural network, you'll build each layer into a function.  Most of the code you've seen has been outside of functions. To test your code more thoroughly, we require that you put each layer in a function.  This allows us to give you better feedback and test for simple mistakes using our unittests before you submit your project.\n",
    "\n",
    ">**Note:** If you're finding it hard to dedicate enough time for this course each week, we've provided a small shortcut to this part of the project. In the next couple of problems, you'll have the option to use classes from the [TensorFlow Layers](https://www.tensorflow.org/api_docs/python/tf/layers) or [TensorFlow Layers (contrib)](https://www.tensorflow.org/api_guides/python/contrib.layers) packages to build each layer, except the layers you build in the \"Convolutional and Max Pooling Layer\" section.  TF Layers is similar to Keras's and TFLearn's abstraction to layers, so it's easy to pickup.\n",
    "\n",
    ">However, if you would like to get the most out of this course, try to solve all the problems _without_ using anything from the TF Layers packages. You **can** still use classes from other packages that happen to have the same name as ones you find in TF Layers! For example, instead of using the TF Layers version of the `conv2d` class, [tf.layers.conv2d](https://www.tensorflow.org/api_docs/python/tf/layers/conv2d), you would want to use the TF Neural Network version of `conv2d`, [tf.nn.conv2d](https://www.tensorflow.org/api_docs/python/tf/nn/conv2d). \n",
    "\n",
    "Let's begin!\n",
    "\n",
    "### Input\n",
    "The neural network needs to read the image data, one-hot encoded labels, and dropout keep probability. Implement the following functions\n",
    "* Implement `neural_net_image_input`\n",
    " * Return a [TF Placeholder](https://www.tensorflow.org/api_docs/python/tf/placeholder)\n",
    " * Set the shape using `image_shape` with batch size set to `None`.\n",
    " * Name the TensorFlow placeholder \"x\" using the TensorFlow `name` parameter in the [TF Placeholder](https://www.tensorflow.org/api_docs/python/tf/placeholder).\n",
    "* Implement `neural_net_label_input`\n",
    " * Return a [TF Placeholder](https://www.tensorflow.org/api_docs/python/tf/placeholder)\n",
    " * Set the shape using `n_classes` with batch size set to `None`.\n",
    " * Name the TensorFlow placeholder \"y\" using the TensorFlow `name` parameter in the [TF Placeholder](https://www.tensorflow.org/api_docs/python/tf/placeholder).\n",
    "* Implement `neural_net_keep_prob_input`\n",
    " * Return a [TF Placeholder](https://www.tensorflow.org/api_docs/python/tf/placeholder) for dropout keep probability.\n",
    " * Name the TensorFlow placeholder \"keep_prob\" using the TensorFlow `name` parameter in the [TF Placeholder](https://www.tensorflow.org/api_docs/python/tf/placeholder).\n",
    "\n",
    "These names will be used at the end of the project to load your saved model.\n",
    "\n",
    "Note: `None` for shapes in TensorFlow allow for a dynamic size."
   ]
  },
  {
   "cell_type": "code",
   "execution_count": 7,
   "metadata": {},
   "outputs": [
    {
     "name": "stdout",
     "output_type": "stream",
     "text": [
      "Image Input Tests Passed.\n",
      "Label Input Tests Passed.\n",
      "Keep Prob Tests Passed.\n"
     ]
    }
   ],
   "source": [
    "import tensorflow as tf\n",
    "\n",
    "def neural_net_image_input(image_shape):\n",
    "    \"\"\"\n",
    "    Return a Tensor for a batch of image input\n",
    "    : image_shape: Shape of the images\n",
    "    : return: Tensor for image input.\n",
    "    \"\"\"\n",
    "    # TODO: Implement Function\n",
    "    x = tf.placeholder(tf.float32, [None, image_shape[0], image_shape[1], image_shape[2]], name='x')\n",
    "    return x\n",
    "\n",
    "\n",
    "def neural_net_label_input(n_classes):\n",
    "    \"\"\"\n",
    "    Return a Tensor for a batch of label input\n",
    "    : n_classes: Number of classes\n",
    "    : return: Tensor for label input.\n",
    "    \"\"\"\n",
    "    y = tf.placeholder(tf.float32, [None, n_classes], name='y')\n",
    "    return y\n",
    "\n",
    "\n",
    "def neural_net_keep_prob_input():\n",
    "    \"\"\"\n",
    "    Return a Tensor for keep probability\n",
    "    : return: Tensor for keep probability.\n",
    "    \"\"\"\n",
    "    keep_prob = tf.placeholder(tf.float32, None, name='keep_prob')\n",
    "    return keep_prob\n",
    "\n",
    "\n",
    "\"\"\"\n",
    "DON'T MODIFY ANYTHING IN THIS CELL THAT IS BELOW THIS LINE\n",
    "\"\"\"\n",
    "tf.reset_default_graph()\n",
    "tests.test_nn_image_inputs(neural_net_image_input)\n",
    "tests.test_nn_label_inputs(neural_net_label_input)\n",
    "tests.test_nn_keep_prob_inputs(neural_net_keep_prob_input)"
   ]
  },
  {
   "cell_type": "markdown",
   "metadata": {},
   "source": [
    "### Convolution and Max Pooling Layer\n",
    "Convolution layers have a lot of success with images. For this code cell, you should implement the function `conv2d_maxpool` to apply convolution then max pooling:\n",
    "* Create the weight and bias using `conv_ksize`, `conv_num_outputs` and the shape of `x_tensor`.\n",
    "* Apply a convolution to `x_tensor` using weight and `conv_strides`.\n",
    " * We recommend you use same padding, but you're welcome to use any padding.\n",
    "* Add bias\n",
    "* Add a nonlinear activation to the convolution.\n",
    "* Apply Max Pooling using `pool_ksize` and `pool_strides`.\n",
    " * We recommend you use same padding, but you're welcome to use any padding.\n",
    "\n",
    "**Note:** You **can't** use [TensorFlow Layers](https://www.tensorflow.org/api_docs/python/tf/layers) or [TensorFlow Layers (contrib)](https://www.tensorflow.org/api_guides/python/contrib.layers) for **this** layer, but you can still use TensorFlow's [Neural Network](https://www.tensorflow.org/api_docs/python/tf/nn) package. You may still use the shortcut option for all the **other** layers."
   ]
  },
  {
   "cell_type": "code",
   "execution_count": 8,
   "metadata": {},
   "outputs": [
    {
     "name": "stdout",
     "output_type": "stream",
     "text": [
      "Tests Passed\n"
     ]
    }
   ],
   "source": [
    "def conv2d_maxpool(x_tensor, conv_num_outputs, conv_ksize, conv_strides, pool_ksize, pool_strides):\n",
    "    \"\"\"\n",
    "    Apply convolution then max pooling to x_tensor\n",
    "    :param x_tensor: TensorFlow Tensor\n",
    "    :param conv_num_outputs: Number of outputs for the convolutional layer\n",
    "    :param conv_ksize: kernal size 2-D Tuple for the convolutional layer\n",
    "    :param conv_strides: Stride 2-D Tuple for convolution\n",
    "    :param pool_ksize: kernal size 2-D Tuple for pool\n",
    "    :param pool_strides: Stride 2-D Tuple for pool\n",
    "    : return: A tensor that represents convolution and max pooling of x_tensor\n",
    "    \"\"\"\n",
    "    F_W = tf.Variable(tf.truncated_normal(conv_ksize + (x_tensor.shape[3].value, conv_num_outputs), stddev=.1))\n",
    "    F_b = tf.Variable(tf.zeros(conv_num_outputs))\n",
    "    strides = [1, *conv_strides, 1]\n",
    "    conv = tf.nn.conv2d(x_tensor, F_W, strides, 'SAME')\n",
    "    conv = tf.nn.bias_add(conv, F_b)\n",
    "    conv = tf.nn.relu(conv)\n",
    "\n",
    "    ksize = [1, *pool_ksize, 1]\n",
    "    strides = [1, *pool_strides, 1]\n",
    "    return tf.nn.max_pool(conv, ksize, strides, 'SAME')\n",
    "\n",
    "\"\"\"\n",
    "DON'T MODIFY ANYTHING IN THIS CELL THAT IS BELOW THIS LINE\n",
    "\"\"\"\n",
    "tests.test_con_pool(conv2d_maxpool)"
   ]
  },
  {
   "cell_type": "markdown",
   "metadata": {},
   "source": [
    "### Flatten Layer\n",
    "Implement the `flatten` function to change the dimension of `x_tensor` from a 4-D tensor to a 2-D tensor.  The output should be the shape (*Batch Size*, *Flattened Image Size*). Shortcut option: you can use classes from the [TensorFlow Layers](https://www.tensorflow.org/api_docs/python/tf/layers) or [TensorFlow Layers (contrib)](https://www.tensorflow.org/api_guides/python/contrib.layers) packages for this layer. For more of a challenge, only use other TensorFlow packages."
   ]
  },
  {
   "cell_type": "code",
   "execution_count": 9,
   "metadata": {},
   "outputs": [
    {
     "name": "stdout",
     "output_type": "stream",
     "text": [
      "Tests Passed\n"
     ]
    }
   ],
   "source": [
    "def flatten(x_tensor):\n",
    "    \"\"\"\n",
    "    Flatten x_tensor to (Batch Size, Flattened Image Size)\n",
    "    : x_tensor: A tensor of size (Batch Size, ...), where ... are the image dimensions.\n",
    "    : return: A tensor of size (Batch Size, Flattened Image Size).\n",
    "    \"\"\"\n",
    "    flattened = tf.contrib.layers.flatten(x_tensor)\n",
    "    return flattened\n",
    "\n",
    "\n",
    "\"\"\"\n",
    "DON'T MODIFY ANYTHING IN THIS CELL THAT IS BELOW THIS LINE\n",
    "\"\"\"\n",
    "tests.test_flatten(flatten)"
   ]
  },
  {
   "cell_type": "markdown",
   "metadata": {},
   "source": [
    "### Fully-Connected Layer\n",
    "Implement the `fully_conn` function to apply a fully connected layer to `x_tensor` with the shape (*Batch Size*, *num_outputs*). Shortcut option: you can use classes from the [TensorFlow Layers](https://www.tensorflow.org/api_docs/python/tf/layers) or [TensorFlow Layers (contrib)](https://www.tensorflow.org/api_guides/python/contrib.layers) packages for this layer. For more of a challenge, only use other TensorFlow packages."
   ]
  },
  {
   "cell_type": "code",
   "execution_count": 10,
   "metadata": {},
   "outputs": [
    {
     "name": "stdout",
     "output_type": "stream",
     "text": [
      "Tests Passed\n"
     ]
    }
   ],
   "source": [
    "def fully_conn(x_tensor, num_outputs):\n",
    "    \"\"\"\n",
    "    Apply a fully connected layer to x_tensor using weight and bias\n",
    "    : x_tensor: A 2-D tensor where the first dimension is batch size.\n",
    "    : num_outputs: The number of output that the new tensor should be.\n",
    "    : return: A 2-D tensor where the second dimension is num_outputs.\n",
    "    \"\"\"\n",
    "    fully_connected = tf.contrib.layers.fully_connected(x_tensor, num_outputs, activation_fn=tf.nn.relu)\n",
    "    return fully_connected\n",
    "\n",
    "\"\"\"\n",
    "DON'T MODIFY ANYTHING IN THIS CELL THAT IS BELOW THIS LINE\n",
    "\"\"\"\n",
    "tests.test_fully_conn(fully_conn)"
   ]
  },
  {
   "cell_type": "markdown",
   "metadata": {},
   "source": [
    "### Output Layer\n",
    "Implement the `output` function to apply a fully connected layer to `x_tensor` with the shape (*Batch Size*, *num_outputs*). Shortcut option: you can use classes from the [TensorFlow Layers](https://www.tensorflow.org/api_docs/python/tf/layers) or [TensorFlow Layers (contrib)](https://www.tensorflow.org/api_guides/python/contrib.layers) packages for this layer. For more of a challenge, only use other TensorFlow packages.\n",
    "\n",
    "**Note:** Activation, softmax, or cross entropy should **not** be applied to this."
   ]
  },
  {
   "cell_type": "code",
   "execution_count": 11,
   "metadata": {},
   "outputs": [
    {
     "name": "stdout",
     "output_type": "stream",
     "text": [
      "Tests Passed\n"
     ]
    }
   ],
   "source": [
    "def output(x_tensor, num_outputs):\n",
    "    \"\"\"\n",
    "    Apply a output layer to x_tensor using weight and bias\n",
    "    : x_tensor: A 2-D tensor where the first dimension is batch size.\n",
    "    : num_outputs: The number of output that the new tensor should be.\n",
    "    : return: A 2-D tensor where the second dimension is num_outputs.\n",
    "    \"\"\"\n",
    "    fully_connected = tf.contrib.layers.fully_connected(x_tensor, num_outputs, activation_fn=None)\n",
    "    return fully_connected\n",
    "\n",
    "\n",
    "\"\"\"\n",
    "DON'T MODIFY ANYTHING IN THIS CELL THAT IS BELOW THIS LINE\n",
    "\"\"\"\n",
    "tests.test_output(output)"
   ]
  },
  {
   "cell_type": "markdown",
   "metadata": {},
   "source": [
    "### Create Convolutional Model\n",
    "Implement the function `conv_net` to create a convolutional neural network model. The function takes in a batch of images, `x`, and outputs logits.  Use the layers you created above to create this model:\n",
    "\n",
    "* Apply 1, 2, or 3 Convolution and Max Pool layers\n",
    "* Apply a Flatten Layer\n",
    "* Apply 1, 2, or 3 Fully Connected Layers\n",
    "* Apply an Output Layer\n",
    "* Return the output\n",
    "* Apply [TensorFlow's Dropout](https://www.tensorflow.org/api_docs/python/tf/nn/dropout) to one or more layers in the model using `keep_prob`. "
   ]
  },
  {
   "cell_type": "code",
   "execution_count": 12,
   "metadata": {},
   "outputs": [
    {
     "name": "stdout",
     "output_type": "stream",
     "text": [
      "Neural Network Built!\n"
     ]
    }
   ],
   "source": [
    "def conv_net(x, keep_prob):\n",
    "    \"\"\"\n",
    "    Create a convolutional neural network model\n",
    "    : x: Placeholder tensor that holds image data.\n",
    "    : keep_prob: Placeholder tensor that hold dropout keep probability.\n",
    "    : return: Tensor that represents logits\n",
    "    \"\"\"\n",
    "    \n",
    "    x_tensor = x         #:param x_tensor: TensorFlow Tensor\n",
    "    conv_num_outputs = 4 #:param conv_num_outputs: Number of outputs for the convolutional layer\n",
    "    conv_strides = (1,1) #:param conv_strides: Stride 2-D Tuple for convolution\n",
    "    pool_ksize = (2,2)   #:param pool_ksize: kernal size 2-D Tuple for pool\n",
    "    pool_strides = (1,1) #:param pool_strides: Stride 2-D Tuple for pool\n",
    "    conv_ksize = (3,3)\n",
    "    x_tensor = conv2d_maxpool(x_tensor, conv_num_outputs, conv_ksize, conv_strides, pool_ksize, pool_strides)\n",
    "    conv_num_outputs = 8 #:param conv_num_outputs: Number of outputs for the convolutional layer\n",
    "    x_tensor = conv2d_maxpool(x_tensor, conv_num_outputs, conv_ksize, conv_strides, pool_ksize, pool_strides)\n",
    "    conv_num_outputs = 16 #:param conv_num_outputs: Number of outputs for the convolutional layer\n",
    "    x_tensor = conv2d_maxpool(x_tensor, conv_num_outputs, conv_ksize, conv_strides, pool_ksize, pool_strides)\n",
    "\n",
    "    x_tensor = flatten(x_tensor)\n",
    " \n",
    "    num_outputs = 80\n",
    "    x_tensor = fully_conn(x_tensor, num_outputs)\n",
    "    x_tensor = tf.nn.dropout(x_tensor, keep_prob)\n",
    "    num_outputs = 40\n",
    "    x_tensor = fully_conn(x_tensor, num_outputs)\n",
    "    x_tensor = tf.nn.dropout(x_tensor, keep_prob)\n",
    "    num_outputs = 20\n",
    "    \n",
    "    x_tensor = tf.nn.dropout(x_tensor, keep_prob)\n",
    "    x_tensor = fully_conn(x_tensor, num_outputs)\n",
    "\n",
    "    num_outputs = 10\n",
    "    x_tensor = output(x_tensor, num_outputs)\n",
    "    \n",
    "    return x_tensor\n",
    "\n",
    "\n",
    "\"\"\"\n",
    "DON'T MODIFY ANYTHING IN THIS CELL THAT IS BELOW THIS LINE\n",
    "\"\"\"\n",
    "\n",
    "##############################\n",
    "## Build the Neural Network ##\n",
    "##############################\n",
    "\n",
    "# Remove previous weights, bias, inputs, etc..\n",
    "tf.reset_default_graph()\n",
    "\n",
    "# Inputs\n",
    "x = neural_net_image_input((32, 32, 3))\n",
    "y = neural_net_label_input(10)\n",
    "keep_prob = neural_net_keep_prob_input()\n",
    "\n",
    "# Model\n",
    "logits = conv_net(x, keep_prob)\n",
    "\n",
    "# Name logits Tensor, so that is can be loaded from disk after training\n",
    "logits = tf.identity(logits, name='logits')\n",
    "\n",
    "# Loss and Optimizer\n",
    "cost = tf.reduce_mean(tf.nn.softmax_cross_entropy_with_logits(logits=logits, labels=y))\n",
    "optimizer = tf.train.AdamOptimizer().minimize(cost)\n",
    "\n",
    "# Accuracy\n",
    "correct_pred = tf.equal(tf.argmax(logits, 1), tf.argmax(y, 1))\n",
    "accuracy = tf.reduce_mean(tf.cast(correct_pred, tf.float32), name='accuracy')\n",
    "\n",
    "tests.test_conv_net(conv_net)\n",
    "\n",
    "tf.summary.scalar('keep_probability', keep_prob)\n",
    "tf.summary.scalar('cost', cost)\n",
    "tf.summary.scalar('acc', accuracy)\n",
    "merged = tf.summary.merge_all()"
   ]
  },
  {
   "cell_type": "markdown",
   "metadata": {},
   "source": [
    "## Train the Neural Network\n",
    "### Single Optimization\n",
    "Implement the function `train_neural_network` to do a single optimization.  The optimization should use `optimizer` to optimize in `session` with a `feed_dict` of the following:\n",
    "* `x` for image input\n",
    "* `y` for labels\n",
    "* `keep_prob` for keep probability for dropout\n",
    "\n",
    "This function will be called for each batch, so `tf.global_variables_initializer()` has already been called.\n",
    "\n",
    "Note: Nothing needs to be returned. This function is only optimizing the neural network."
   ]
  },
  {
   "cell_type": "code",
   "execution_count": 13,
   "metadata": {},
   "outputs": [
    {
     "name": "stdout",
     "output_type": "stream",
     "text": [
      "Tests Passed\n"
     ]
    }
   ],
   "source": [
    "def train_neural_network(session, optimizer, keep_probability, feature_batch, label_batch):\n",
    "    \"\"\"\n",
    "    Optimize the session on a batch of images and labels\n",
    "    : session: Current TensorFlow session\n",
    "    : optimizer: TensorFlow optimizer function\n",
    "    : keep_probability: keep probability\n",
    "    : feature_batch: Batch of Numpy image data\n",
    "    : label_batch: Batch of Numpy label data\n",
    "    \"\"\"\n",
    "    session.run(optimizer,\n",
    "                feed_dict={x: feature_batch, \n",
    "                           y: label_batch, \n",
    "                           keep_prob: keep_probability})\n",
    "\n",
    "\n",
    "\"\"\"\n",
    "DON'T MODIFY ANYTHING IN THIS CELL THAT IS BELOW THIS LINE\n",
    "\"\"\"\n",
    "tests.test_train_nn(train_neural_network)"
   ]
  },
  {
   "cell_type": "markdown",
   "metadata": {},
   "source": [
    "### Show Stats\n",
    "Implement the function `print_stats` to print loss and validation accuracy.  Use the global variables `valid_features` and `valid_labels` to calculate validation accuracy.  Use a keep probability of `1.0` to calculate the loss and validation accuracy."
   ]
  },
  {
   "cell_type": "code",
   "execution_count": 14,
   "metadata": {
    "collapsed": true
   },
   "outputs": [],
   "source": [
    "def print_stats(session, feature_batch, label_batch, cost, accuracy):\n",
    "    \"\"\"\n",
    "    Print information about loss and validation accuracy\n",
    "    : session: Current TensorFlow session\n",
    "    : feature_batch: Batch of Numpy image data\n",
    "    : label_batch: Batch of Numpy label data\n",
    "    : cost: TensorFlow cost function\n",
    "    : accuracy: TensorFlow accuracy function\n",
    "    \"\"\"\n",
    "    cost_ = session.run(cost, feed_dict={\n",
    "        x: feature_batch,\n",
    "        y: label_batch,\n",
    "        keep_prob: 1.\n",
    "    })\n",
    "    summary, validation_ = session.run([merged, accuracy], feed_dict={\n",
    "        x: valid_features,\n",
    "        y: valid_labels,\n",
    "        keep_prob: 1.\n",
    "    })\n",
    "    print('Validation accuracy: {:.3f}. Cost: {:2.3f}'.format(validation_, cost_))\n",
    "    return summary"
   ]
  },
  {
   "cell_type": "markdown",
   "metadata": {},
   "source": [
    "### Hyperparameters\n",
    "Tune the following parameters:\n",
    "* Set `epochs` to the number of iterations until the network stops learning or start overfitting\n",
    "* Set `batch_size` to the highest number that your machine has memory for.  Most people set them to common sizes of memory:\n",
    " * 64\n",
    " * 128\n",
    " * 256\n",
    " * ...\n",
    "* Set `keep_probability` to the probability of keeping a node using dropout"
   ]
  },
  {
   "cell_type": "code",
   "execution_count": 15,
   "metadata": {
    "collapsed": true
   },
   "outputs": [],
   "source": [
    "# TODO: Tune Parameters\n",
    "epochs = 50\n",
    "batch_size = 256\n",
    "keep_probability = 0.5"
   ]
  },
  {
   "cell_type": "markdown",
   "metadata": {},
   "source": [
    "### Train on a Single CIFAR-10 Batch\n",
    "Instead of training the neural network on all the CIFAR-10 batches of data, let's use a single batch. This should save time while you iterate on the model to get a better accuracy.  Once the final validation accuracy is 50% or greater, run the model on all the data in the next section."
   ]
  },
  {
   "cell_type": "code",
   "execution_count": 16,
   "metadata": {},
   "outputs": [
    {
     "name": "stdout",
     "output_type": "stream",
     "text": [
      "Checking the Training on a Single Batch...\n",
      "Epoch  1, CIFAR-10 Batch 1:  Validation accuracy: 0.127. Cost: 2.303\n",
      "Epoch  2, CIFAR-10 Batch 1:  Validation accuracy: 0.189. Cost: 2.285\n",
      "Epoch  3, CIFAR-10 Batch 1:  Validation accuracy: 0.171. Cost: 2.242\n",
      "Epoch  4, CIFAR-10 Batch 1:  Validation accuracy: 0.196. Cost: 2.175\n",
      "Epoch  5, CIFAR-10 Batch 1:  Validation accuracy: 0.221. Cost: 2.130\n",
      "Epoch  6, CIFAR-10 Batch 1:  Validation accuracy: 0.225. Cost: 2.103\n",
      "Epoch  7, CIFAR-10 Batch 1:  Validation accuracy: 0.280. Cost: 2.072\n",
      "Epoch  8, CIFAR-10 Batch 1:  Validation accuracy: 0.278. Cost: 2.039\n",
      "Epoch  9, CIFAR-10 Batch 1:  Validation accuracy: 0.296. Cost: 1.972\n",
      "Epoch 10, CIFAR-10 Batch 1:  Validation accuracy: 0.307. Cost: 1.936\n",
      "Epoch 11, CIFAR-10 Batch 1:  Validation accuracy: 0.319. Cost: 1.892\n",
      "Epoch 12, CIFAR-10 Batch 1:  Validation accuracy: 0.314. Cost: 1.858\n",
      "Epoch 13, CIFAR-10 Batch 1:  Validation accuracy: 0.337. Cost: 1.828\n",
      "Epoch 14, CIFAR-10 Batch 1:  Validation accuracy: 0.317. Cost: 1.774\n",
      "Epoch 15, CIFAR-10 Batch 1:  Validation accuracy: 0.279. Cost: 1.828\n",
      "Epoch 16, CIFAR-10 Batch 1:  Validation accuracy: 0.343. Cost: 1.707\n",
      "Epoch 17, CIFAR-10 Batch 1:  Validation accuracy: 0.340. Cost: 1.682\n",
      "Epoch 18, CIFAR-10 Batch 1:  Validation accuracy: 0.344. Cost: 1.657\n",
      "Epoch 19, CIFAR-10 Batch 1:  Validation accuracy: 0.334. Cost: 1.629\n",
      "Epoch 20, CIFAR-10 Batch 1:  Validation accuracy: 0.343. Cost: 1.598\n",
      "Epoch 21, CIFAR-10 Batch 1:  Validation accuracy: 0.344. Cost: 1.573\n",
      "Epoch 22, CIFAR-10 Batch 1:  Validation accuracy: 0.351. Cost: 1.533\n",
      "Epoch 23, CIFAR-10 Batch 1:  Validation accuracy: 0.351. Cost: 1.527\n",
      "Epoch 24, CIFAR-10 Batch 1:  Validation accuracy: 0.350. Cost: 1.528\n",
      "Epoch 25, CIFAR-10 Batch 1:  Validation accuracy: 0.348. Cost: 1.488\n",
      "Epoch 26, CIFAR-10 Batch 1:  Validation accuracy: 0.361. Cost: 1.437\n",
      "Epoch 27, CIFAR-10 Batch 1:  Validation accuracy: 0.347. Cost: 1.441\n",
      "Epoch 28, CIFAR-10 Batch 1:  Validation accuracy: 0.361. Cost: 1.412\n",
      "Epoch 29, CIFAR-10 Batch 1:  Validation accuracy: 0.349. Cost: 1.389\n",
      "Epoch 30, CIFAR-10 Batch 1:  Validation accuracy: 0.359. Cost: 1.395\n",
      "Epoch 31, CIFAR-10 Batch 1:  Validation accuracy: 0.370. Cost: 1.364\n",
      "Epoch 32, CIFAR-10 Batch 1:  Validation accuracy: 0.355. Cost: 1.384\n",
      "Epoch 33, CIFAR-10 Batch 1:  Validation accuracy: 0.348. Cost: 1.356\n",
      "Epoch 34, CIFAR-10 Batch 1:  Validation accuracy: 0.363. Cost: 1.323\n",
      "Epoch 35, CIFAR-10 Batch 1:  Validation accuracy: 0.357. Cost: 1.319\n",
      "Epoch 36, CIFAR-10 Batch 1:  Validation accuracy: 0.366. Cost: 1.326\n",
      "Epoch 37, CIFAR-10 Batch 1:  Validation accuracy: 0.366. Cost: 1.309\n",
      "Epoch 38, CIFAR-10 Batch 1:  Validation accuracy: 0.383. Cost: 1.259\n",
      "Epoch 39, CIFAR-10 Batch 1:  Validation accuracy: 0.365. Cost: 1.262\n",
      "Epoch 40, CIFAR-10 Batch 1:  Validation accuracy: 0.377. Cost: 1.256\n",
      "Epoch 41, CIFAR-10 Batch 1:  Validation accuracy: 0.381. Cost: 1.268\n",
      "Epoch 42, CIFAR-10 Batch 1:  Validation accuracy: 0.386. Cost: 1.218\n",
      "Epoch 43, CIFAR-10 Batch 1:  Validation accuracy: 0.381. Cost: 1.229\n",
      "Epoch 44, CIFAR-10 Batch 1:  Validation accuracy: 0.367. Cost: 1.225\n",
      "Epoch 45, CIFAR-10 Batch 1:  Validation accuracy: 0.385. Cost: 1.231\n",
      "Epoch 46, CIFAR-10 Batch 1:  Validation accuracy: 0.384. Cost: 1.236\n",
      "Epoch 47, CIFAR-10 Batch 1:  Validation accuracy: 0.379. Cost: 1.222\n",
      "Epoch 48, CIFAR-10 Batch 1:  Validation accuracy: 0.388. Cost: 1.172\n",
      "Epoch 49, CIFAR-10 Batch 1:  Validation accuracy: 0.378. Cost: 1.175\n",
      "Epoch 50, CIFAR-10 Batch 1:  Validation accuracy: 0.389. Cost: 1.187\n"
     ]
    }
   ],
   "source": [
    "print('Checking the Training on a Single Batch...')\n",
    "with tf.Session() as sess:\n",
    "    # Initializing the variables\n",
    "    sess.run(tf.global_variables_initializer())\n",
    "    \n",
    "    # Training cycle\n",
    "    for epoch in range(epochs):\n",
    "        batch_i = 1\n",
    "        for batch_features, batch_labels in helper.load_preprocess_training_batch(batch_i, batch_size):\n",
    "            train_neural_network(sess, optimizer, keep_probability, batch_features, batch_labels)\n",
    "        print('Epoch {:>2}, CIFAR-10 Batch {}:  '.format(epoch + 1, batch_i), end='')\n",
    "        print_stats(sess, batch_features, batch_labels, cost, accuracy)"
   ]
  },
  {
   "cell_type": "markdown",
   "metadata": {},
   "source": [
    "### Fully Train the Model\n",
    "Now that you got a good accuracy with a single CIFAR-10 batch, try it with all five batches."
   ]
  },
  {
   "cell_type": "code",
   "execution_count": 17,
   "metadata": {},
   "outputs": [
    {
     "name": "stdout",
     "output_type": "stream",
     "text": [
      "Training...\n",
      "Epoch  1, CIFAR-10 Batch 1:  Validation accuracy: 0.156. Cost: 2.301\n",
      "Epoch  1, CIFAR-10 Batch 2:  Validation accuracy: 0.211. Cost: 2.290\n",
      "Epoch  1, CIFAR-10 Batch 3:  Validation accuracy: 0.182. Cost: 2.193\n",
      "Epoch  1, CIFAR-10 Batch 4:  Validation accuracy: 0.243. Cost: 2.196\n",
      "Epoch  1, CIFAR-10 Batch 5:  Validation accuracy: 0.263. Cost: 2.016\n",
      "Epoch  2, CIFAR-10 Batch 1:  Validation accuracy: 0.271. Cost: 2.145\n",
      "Epoch  2, CIFAR-10 Batch 2:  Validation accuracy: 0.287. Cost: 1.935\n",
      "Epoch  2, CIFAR-10 Batch 3:  Validation accuracy: 0.268. Cost: 1.693\n",
      "Epoch  2, CIFAR-10 Batch 4:  Validation accuracy: 0.296. Cost: 1.848\n",
      "Epoch  2, CIFAR-10 Batch 5:  Validation accuracy: 0.290. Cost: 1.712\n",
      "Epoch  3, CIFAR-10 Batch 1:  Validation accuracy: 0.285. Cost: 1.985\n",
      "Epoch  3, CIFAR-10 Batch 2:  Validation accuracy: 0.291. Cost: 1.851\n",
      "Epoch  3, CIFAR-10 Batch 3:  Validation accuracy: 0.298. Cost: 1.578\n",
      "Epoch  3, CIFAR-10 Batch 4:  Validation accuracy: 0.301. Cost: 1.799\n",
      "Epoch  3, CIFAR-10 Batch 5:  Validation accuracy: 0.318. Cost: 1.644\n",
      "Epoch  4, CIFAR-10 Batch 1:  Validation accuracy: 0.318. Cost: 1.916\n",
      "Epoch  4, CIFAR-10 Batch 2:  Validation accuracy: 0.329. Cost: 1.725\n",
      "Epoch  4, CIFAR-10 Batch 3:  Validation accuracy: 0.317. Cost: 1.502\n",
      "Epoch  4, CIFAR-10 Batch 4:  Validation accuracy: 0.341. Cost: 1.758\n",
      "Epoch  4, CIFAR-10 Batch 5:  Validation accuracy: 0.339. Cost: 1.559\n",
      "Epoch  5, CIFAR-10 Batch 1:  Validation accuracy: 0.334. Cost: 1.731\n",
      "Epoch  5, CIFAR-10 Batch 2:  Validation accuracy: 0.333. Cost: 1.679\n",
      "Epoch  5, CIFAR-10 Batch 3:  Validation accuracy: 0.340. Cost: 1.539\n",
      "Epoch  5, CIFAR-10 Batch 4:  Validation accuracy: 0.356. Cost: 1.666\n",
      "Epoch  5, CIFAR-10 Batch 5:  Validation accuracy: 0.344. Cost: 1.513\n",
      "Epoch  6, CIFAR-10 Batch 1:  Validation accuracy: 0.354. Cost: 1.743\n",
      "Epoch  6, CIFAR-10 Batch 2:  Validation accuracy: 0.354. Cost: 1.658\n",
      "Epoch  6, CIFAR-10 Batch 3:  Validation accuracy: 0.365. Cost: 1.496\n",
      "Epoch  6, CIFAR-10 Batch 4:  Validation accuracy: 0.376. Cost: 1.663\n",
      "Epoch  6, CIFAR-10 Batch 5:  Validation accuracy: 0.348. Cost: 1.500\n",
      "Epoch  7, CIFAR-10 Batch 1:  Validation accuracy: 0.358. Cost: 1.661\n",
      "Epoch  7, CIFAR-10 Batch 2:  Validation accuracy: 0.377. Cost: 1.635\n",
      "Epoch  7, CIFAR-10 Batch 3:  Validation accuracy: 0.368. Cost: 1.493\n",
      "Epoch  7, CIFAR-10 Batch 4:  Validation accuracy: 0.379. Cost: 1.612\n",
      "Epoch  7, CIFAR-10 Batch 5:  Validation accuracy: 0.397. Cost: 1.433\n",
      "Epoch  8, CIFAR-10 Batch 1:  Validation accuracy: 0.381. Cost: 1.555\n",
      "Epoch  8, CIFAR-10 Batch 2:  Validation accuracy: 0.383. Cost: 1.592\n",
      "Epoch  8, CIFAR-10 Batch 3:  Validation accuracy: 0.379. Cost: 1.441\n",
      "Epoch  8, CIFAR-10 Batch 4:  Validation accuracy: 0.370. Cost: 1.611\n",
      "Epoch  8, CIFAR-10 Batch 5:  Validation accuracy: 0.387. Cost: 1.405\n",
      "Epoch  9, CIFAR-10 Batch 1:  Validation accuracy: 0.380. Cost: 1.537\n",
      "Epoch  9, CIFAR-10 Batch 2:  Validation accuracy: 0.394. Cost: 1.557\n",
      "Epoch  9, CIFAR-10 Batch 3:  Validation accuracy: 0.374. Cost: 1.449\n",
      "Epoch  9, CIFAR-10 Batch 4:  Validation accuracy: 0.387. Cost: 1.552\n",
      "Epoch  9, CIFAR-10 Batch 5:  Validation accuracy: 0.401. Cost: 1.359\n",
      "Epoch 10, CIFAR-10 Batch 1:  Validation accuracy: 0.388. Cost: 1.520\n",
      "Epoch 10, CIFAR-10 Batch 2:  Validation accuracy: 0.388. Cost: 1.594\n",
      "Epoch 10, CIFAR-10 Batch 3:  Validation accuracy: 0.397. Cost: 1.387\n",
      "Epoch 10, CIFAR-10 Batch 4:  Validation accuracy: 0.402. Cost: 1.527\n",
      "Epoch 10, CIFAR-10 Batch 5:  Validation accuracy: 0.405. Cost: 1.331\n",
      "Epoch 11, CIFAR-10 Batch 1:  Validation accuracy: 0.410. Cost: 1.482\n",
      "Epoch 11, CIFAR-10 Batch 2:  Validation accuracy: 0.409. Cost: 1.511\n",
      "Epoch 11, CIFAR-10 Batch 3:  Validation accuracy: 0.414. Cost: 1.395\n",
      "Epoch 11, CIFAR-10 Batch 4:  Validation accuracy: 0.419. Cost: 1.517\n",
      "Epoch 11, CIFAR-10 Batch 5:  Validation accuracy: 0.424. Cost: 1.325\n",
      "Epoch 12, CIFAR-10 Batch 1:  Validation accuracy: 0.390. Cost: 1.433\n",
      "Epoch 12, CIFAR-10 Batch 2:  Validation accuracy: 0.417. Cost: 1.496\n",
      "Epoch 12, CIFAR-10 Batch 3:  Validation accuracy: 0.411. Cost: 1.359\n",
      "Epoch 12, CIFAR-10 Batch 4:  Validation accuracy: 0.421. Cost: 1.499\n",
      "Epoch 12, CIFAR-10 Batch 5:  Validation accuracy: 0.421. Cost: 1.277\n",
      "Epoch 13, CIFAR-10 Batch 1:  Validation accuracy: 0.410. Cost: 1.456\n",
      "Epoch 13, CIFAR-10 Batch 2:  Validation accuracy: 0.417. Cost: 1.395\n",
      "Epoch 13, CIFAR-10 Batch 3:  Validation accuracy: 0.416. Cost: 1.362\n",
      "Epoch 13, CIFAR-10 Batch 4:  Validation accuracy: 0.418. Cost: 1.454\n",
      "Epoch 13, CIFAR-10 Batch 5:  Validation accuracy: 0.423. Cost: 1.249\n",
      "Epoch 14, CIFAR-10 Batch 1:  Validation accuracy: 0.418. Cost: 1.470\n",
      "Epoch 14, CIFAR-10 Batch 2:  Validation accuracy: 0.412. Cost: 1.399\n",
      "Epoch 14, CIFAR-10 Batch 3:  Validation accuracy: 0.429. Cost: 1.273\n",
      "Epoch 14, CIFAR-10 Batch 4:  Validation accuracy: 0.423. Cost: 1.455\n",
      "Epoch 14, CIFAR-10 Batch 5:  Validation accuracy: 0.437. Cost: 1.253\n",
      "Epoch 15, CIFAR-10 Batch 1:  Validation accuracy: 0.430. Cost: 1.357\n",
      "Epoch 15, CIFAR-10 Batch 2:  Validation accuracy: 0.434. Cost: 1.374\n",
      "Epoch 15, CIFAR-10 Batch 3:  Validation accuracy: 0.437. Cost: 1.306\n",
      "Epoch 15, CIFAR-10 Batch 4:  Validation accuracy: 0.434. Cost: 1.445\n",
      "Epoch 15, CIFAR-10 Batch 5:  Validation accuracy: 0.422. Cost: 1.237\n",
      "Epoch 16, CIFAR-10 Batch 1:  Validation accuracy: 0.417. Cost: 1.303\n",
      "Epoch 16, CIFAR-10 Batch 2:  Validation accuracy: 0.431. Cost: 1.333\n",
      "Epoch 16, CIFAR-10 Batch 3:  Validation accuracy: 0.419. Cost: 1.283\n",
      "Epoch 16, CIFAR-10 Batch 4:  Validation accuracy: 0.434. Cost: 1.436\n",
      "Epoch 16, CIFAR-10 Batch 5:  Validation accuracy: 0.439. Cost: 1.206\n",
      "Epoch 17, CIFAR-10 Batch 1:  Validation accuracy: 0.437. Cost: 1.299\n",
      "Epoch 17, CIFAR-10 Batch 2:  Validation accuracy: 0.438. Cost: 1.324\n",
      "Epoch 17, CIFAR-10 Batch 3:  Validation accuracy: 0.431. Cost: 1.270\n",
      "Epoch 17, CIFAR-10 Batch 4:  Validation accuracy: 0.440. Cost: 1.429\n",
      "Epoch 17, CIFAR-10 Batch 5:  Validation accuracy: 0.425. Cost: 1.249\n",
      "Epoch 18, CIFAR-10 Batch 1:  Validation accuracy: 0.437. Cost: 1.236\n",
      "Epoch 18, CIFAR-10 Batch 2:  Validation accuracy: 0.452. Cost: 1.306\n",
      "Epoch 18, CIFAR-10 Batch 3:  Validation accuracy: 0.432. Cost: 1.234\n",
      "Epoch 18, CIFAR-10 Batch 4:  Validation accuracy: 0.429. Cost: 1.399\n",
      "Epoch 18, CIFAR-10 Batch 5:  Validation accuracy: 0.430. Cost: 1.164\n",
      "Epoch 19, CIFAR-10 Batch 1:  Validation accuracy: 0.419. Cost: 1.236\n",
      "Epoch 19, CIFAR-10 Batch 2:  Validation accuracy: 0.429. Cost: 1.293\n",
      "Epoch 19, CIFAR-10 Batch 3:  Validation accuracy: 0.423. Cost: 1.234\n",
      "Epoch 19, CIFAR-10 Batch 4:  Validation accuracy: 0.447. Cost: 1.379\n",
      "Epoch 19, CIFAR-10 Batch 5:  Validation accuracy: 0.427. Cost: 1.224\n",
      "Epoch 20, CIFAR-10 Batch 1:  Validation accuracy: 0.427. Cost: 1.233\n",
      "Epoch 20, CIFAR-10 Batch 2:  Validation accuracy: 0.450. Cost: 1.268\n",
      "Epoch 20, CIFAR-10 Batch 3:  Validation accuracy: 0.435. Cost: 1.226\n",
      "Epoch 20, CIFAR-10 Batch 4:  Validation accuracy: 0.436. Cost: 1.369\n",
      "Epoch 20, CIFAR-10 Batch 5:  Validation accuracy: 0.452. Cost: 1.173\n",
      "Epoch 21, CIFAR-10 Batch 1:  Validation accuracy: 0.427. Cost: 1.243\n",
      "Epoch 21, CIFAR-10 Batch 2:  Validation accuracy: 0.445. Cost: 1.287\n",
      "Epoch 21, CIFAR-10 Batch 3:  Validation accuracy: 0.447. Cost: 1.182\n",
      "Epoch 21, CIFAR-10 Batch 4:  Validation accuracy: 0.449. Cost: 1.333\n",
      "Epoch 21, CIFAR-10 Batch 5:  Validation accuracy: 0.439. Cost: 1.143\n",
      "Epoch 22, CIFAR-10 Batch 1:  Validation accuracy: 0.460. Cost: 1.176\n",
      "Epoch 22, CIFAR-10 Batch 2:  Validation accuracy: 0.450. Cost: 1.277\n",
      "Epoch 22, CIFAR-10 Batch 3:  Validation accuracy: 0.447. Cost: 1.187\n",
      "Epoch 22, CIFAR-10 Batch 4:  Validation accuracy: 0.441. Cost: 1.328\n",
      "Epoch 22, CIFAR-10 Batch 5:  Validation accuracy: 0.439. Cost: 1.119\n",
      "Epoch 23, CIFAR-10 Batch 1:  Validation accuracy: 0.462. Cost: 1.137\n",
      "Epoch 23, CIFAR-10 Batch 2:  Validation accuracy: 0.430. Cost: 1.232\n",
      "Epoch 23, CIFAR-10 Batch 3:  Validation accuracy: 0.440. Cost: 1.164\n",
      "Epoch 23, CIFAR-10 Batch 4:  Validation accuracy: 0.430. Cost: 1.301\n",
      "Epoch 23, CIFAR-10 Batch 5:  Validation accuracy: 0.441. Cost: 1.102\n",
      "Epoch 24, CIFAR-10 Batch 1:  Validation accuracy: 0.465. Cost: 1.116\n",
      "Epoch 24, CIFAR-10 Batch 2:  Validation accuracy: 0.449. Cost: 1.204\n",
      "Epoch 24, CIFAR-10 Batch 3:  Validation accuracy: 0.452. Cost: 1.122\n",
      "Epoch 24, CIFAR-10 Batch 4:  Validation accuracy: 0.410. Cost: 1.296\n"
     ]
    },
    {
     "name": "stdout",
     "output_type": "stream",
     "text": [
      "Epoch 24, CIFAR-10 Batch 5:  Validation accuracy: 0.441. Cost: 1.141\n",
      "Epoch 25, CIFAR-10 Batch 1:  Validation accuracy: 0.450. Cost: 1.111\n",
      "Epoch 25, CIFAR-10 Batch 2:  Validation accuracy: 0.440. Cost: 1.186\n",
      "Epoch 25, CIFAR-10 Batch 3:  Validation accuracy: 0.436. Cost: 1.111\n",
      "Epoch 25, CIFAR-10 Batch 4:  Validation accuracy: 0.439. Cost: 1.284\n",
      "Epoch 25, CIFAR-10 Batch 5:  Validation accuracy: 0.437. Cost: 1.126\n",
      "Epoch 26, CIFAR-10 Batch 1:  Validation accuracy: 0.442. Cost: 1.100\n",
      "Epoch 26, CIFAR-10 Batch 2:  Validation accuracy: 0.430. Cost: 1.246\n",
      "Epoch 26, CIFAR-10 Batch 3:  Validation accuracy: 0.448. Cost: 1.102\n",
      "Epoch 26, CIFAR-10 Batch 4:  Validation accuracy: 0.446. Cost: 1.273\n",
      "Epoch 26, CIFAR-10 Batch 5:  Validation accuracy: 0.427. Cost: 1.124\n",
      "Epoch 27, CIFAR-10 Batch 1:  Validation accuracy: 0.434. Cost: 1.076\n",
      "Epoch 27, CIFAR-10 Batch 2:  Validation accuracy: 0.417. Cost: 1.198\n",
      "Epoch 27, CIFAR-10 Batch 3:  Validation accuracy: 0.433. Cost: 1.127\n",
      "Epoch 27, CIFAR-10 Batch 4:  Validation accuracy: 0.429. Cost: 1.265\n",
      "Epoch 27, CIFAR-10 Batch 5:  Validation accuracy: 0.443. Cost: 1.069\n",
      "Epoch 28, CIFAR-10 Batch 1:  Validation accuracy: 0.429. Cost: 1.085\n",
      "Epoch 28, CIFAR-10 Batch 2:  Validation accuracy: 0.449. Cost: 1.149\n",
      "Epoch 28, CIFAR-10 Batch 3:  Validation accuracy: 0.447. Cost: 1.072\n",
      "Epoch 28, CIFAR-10 Batch 4:  Validation accuracy: 0.452. Cost: 1.273\n",
      "Epoch 28, CIFAR-10 Batch 5:  Validation accuracy: 0.456. Cost: 1.067\n",
      "Epoch 29, CIFAR-10 Batch 1:  Validation accuracy: 0.448. Cost: 1.057\n",
      "Epoch 29, CIFAR-10 Batch 2:  Validation accuracy: 0.429. Cost: 1.175\n",
      "Epoch 29, CIFAR-10 Batch 3:  Validation accuracy: 0.452. Cost: 1.046\n",
      "Epoch 29, CIFAR-10 Batch 4:  Validation accuracy: 0.430. Cost: 1.263\n",
      "Epoch 29, CIFAR-10 Batch 5:  Validation accuracy: 0.439. Cost: 1.060\n",
      "Epoch 30, CIFAR-10 Batch 1:  Validation accuracy: 0.436. Cost: 1.056\n",
      "Epoch 30, CIFAR-10 Batch 2:  Validation accuracy: 0.447. Cost: 1.141\n",
      "Epoch 30, CIFAR-10 Batch 3:  Validation accuracy: 0.447. Cost: 1.035\n",
      "Epoch 30, CIFAR-10 Batch 4:  Validation accuracy: 0.456. Cost: 1.265\n",
      "Epoch 30, CIFAR-10 Batch 5:  Validation accuracy: 0.438. Cost: 1.057\n",
      "Epoch 31, CIFAR-10 Batch 1:  Validation accuracy: 0.453. Cost: 1.007\n",
      "Epoch 31, CIFAR-10 Batch 2:  Validation accuracy: 0.434. Cost: 1.166\n",
      "Epoch 31, CIFAR-10 Batch 3:  Validation accuracy: 0.453. Cost: 1.064\n",
      "Epoch 31, CIFAR-10 Batch 4:  Validation accuracy: 0.469. Cost: 1.225\n",
      "Epoch 31, CIFAR-10 Batch 5:  Validation accuracy: 0.462. Cost: 1.044\n",
      "Epoch 32, CIFAR-10 Batch 1:  Validation accuracy: 0.457. Cost: 0.998\n",
      "Epoch 32, CIFAR-10 Batch 2:  Validation accuracy: 0.441. Cost: 1.091\n",
      "Epoch 32, CIFAR-10 Batch 3:  Validation accuracy: 0.477. Cost: 1.027\n",
      "Epoch 32, CIFAR-10 Batch 4:  Validation accuracy: 0.466. Cost: 1.249\n",
      "Epoch 32, CIFAR-10 Batch 5:  Validation accuracy: 0.446. Cost: 1.042\n",
      "Epoch 33, CIFAR-10 Batch 1:  Validation accuracy: 0.449. Cost: 1.015\n",
      "Epoch 33, CIFAR-10 Batch 2:  Validation accuracy: 0.424. Cost: 1.116\n",
      "Epoch 33, CIFAR-10 Batch 3:  Validation accuracy: 0.449. Cost: 1.049\n",
      "Epoch 33, CIFAR-10 Batch 4:  Validation accuracy: 0.464. Cost: 1.226\n",
      "Epoch 33, CIFAR-10 Batch 5:  Validation accuracy: 0.454. Cost: 1.020\n",
      "Epoch 34, CIFAR-10 Batch 1:  Validation accuracy: 0.469. Cost: 1.000\n",
      "Epoch 34, CIFAR-10 Batch 2:  Validation accuracy: 0.459. Cost: 1.125\n",
      "Epoch 34, CIFAR-10 Batch 3:  Validation accuracy: 0.456. Cost: 1.014\n",
      "Epoch 34, CIFAR-10 Batch 4:  Validation accuracy: 0.462. Cost: 1.216\n",
      "Epoch 34, CIFAR-10 Batch 5:  Validation accuracy: 0.441. Cost: 0.990\n",
      "Epoch 35, CIFAR-10 Batch 1:  Validation accuracy: 0.461. Cost: 0.936\n",
      "Epoch 35, CIFAR-10 Batch 2:  Validation accuracy: 0.445. Cost: 1.127\n",
      "Epoch 35, CIFAR-10 Batch 3:  Validation accuracy: 0.469. Cost: 1.023\n",
      "Epoch 35, CIFAR-10 Batch 4:  Validation accuracy: 0.458. Cost: 1.184\n",
      "Epoch 35, CIFAR-10 Batch 5:  Validation accuracy: 0.447. Cost: 0.988\n",
      "Epoch 36, CIFAR-10 Batch 1:  Validation accuracy: 0.453. Cost: 0.995\n",
      "Epoch 36, CIFAR-10 Batch 2:  Validation accuracy: 0.443. Cost: 1.095\n",
      "Epoch 36, CIFAR-10 Batch 3:  Validation accuracy: 0.479. Cost: 1.008\n",
      "Epoch 36, CIFAR-10 Batch 4:  Validation accuracy: 0.451. Cost: 1.205\n",
      "Epoch 36, CIFAR-10 Batch 5:  Validation accuracy: 0.439. Cost: 0.966\n",
      "Epoch 37, CIFAR-10 Batch 1:  Validation accuracy: 0.450. Cost: 0.985\n",
      "Epoch 37, CIFAR-10 Batch 2:  Validation accuracy: 0.458. Cost: 1.041\n",
      "Epoch 37, CIFAR-10 Batch 3:  Validation accuracy: 0.465. Cost: 1.020\n",
      "Epoch 37, CIFAR-10 Batch 4:  Validation accuracy: 0.470. Cost: 1.209\n",
      "Epoch 37, CIFAR-10 Batch 5:  Validation accuracy: 0.445. Cost: 0.968\n",
      "Epoch 38, CIFAR-10 Batch 1:  Validation accuracy: 0.464. Cost: 0.963\n",
      "Epoch 38, CIFAR-10 Batch 2:  Validation accuracy: 0.447. Cost: 1.047\n",
      "Epoch 38, CIFAR-10 Batch 3:  Validation accuracy: 0.468. Cost: 0.994\n",
      "Epoch 38, CIFAR-10 Batch 4:  Validation accuracy: 0.464. Cost: 1.179\n",
      "Epoch 38, CIFAR-10 Batch 5:  Validation accuracy: 0.447. Cost: 1.033\n",
      "Epoch 39, CIFAR-10 Batch 1:  Validation accuracy: 0.468. Cost: 0.947\n",
      "Epoch 39, CIFAR-10 Batch 2:  Validation accuracy: 0.439. Cost: 1.054\n",
      "Epoch 39, CIFAR-10 Batch 3:  Validation accuracy: 0.457. Cost: 1.010\n",
      "Epoch 39, CIFAR-10 Batch 4:  Validation accuracy: 0.464. Cost: 1.220\n",
      "Epoch 39, CIFAR-10 Batch 5:  Validation accuracy: 0.464. Cost: 1.017\n",
      "Epoch 40, CIFAR-10 Batch 1:  Validation accuracy: 0.456. Cost: 0.952\n",
      "Epoch 40, CIFAR-10 Batch 2:  Validation accuracy: 0.447. Cost: 1.059\n",
      "Epoch 40, CIFAR-10 Batch 3:  Validation accuracy: 0.452. Cost: 0.998\n",
      "Epoch 40, CIFAR-10 Batch 4:  Validation accuracy: 0.470. Cost: 1.209\n",
      "Epoch 40, CIFAR-10 Batch 5:  Validation accuracy: 0.451. Cost: 0.971\n",
      "Epoch 41, CIFAR-10 Batch 1:  Validation accuracy: 0.453. Cost: 0.950\n",
      "Epoch 41, CIFAR-10 Batch 2:  Validation accuracy: 0.439. Cost: 1.050\n",
      "Epoch 41, CIFAR-10 Batch 3:  Validation accuracy: 0.460. Cost: 0.992\n",
      "Epoch 41, CIFAR-10 Batch 4:  Validation accuracy: 0.468. Cost: 1.181\n",
      "Epoch 41, CIFAR-10 Batch 5:  Validation accuracy: 0.442. Cost: 0.972\n",
      "Epoch 42, CIFAR-10 Batch 1:  Validation accuracy: 0.451. Cost: 0.990\n",
      "Epoch 42, CIFAR-10 Batch 2:  Validation accuracy: 0.449. Cost: 1.020\n",
      "Epoch 42, CIFAR-10 Batch 3:  Validation accuracy: 0.471. Cost: 0.975\n",
      "Epoch 42, CIFAR-10 Batch 4:  Validation accuracy: 0.469. Cost: 1.166\n",
      "Epoch 42, CIFAR-10 Batch 5:  Validation accuracy: 0.444. Cost: 1.018\n",
      "Epoch 43, CIFAR-10 Batch 1:  Validation accuracy: 0.450. Cost: 0.956\n",
      "Epoch 43, CIFAR-10 Batch 2:  Validation accuracy: 0.457. Cost: 1.018\n",
      "Epoch 43, CIFAR-10 Batch 3:  Validation accuracy: 0.468. Cost: 1.025\n",
      "Epoch 43, CIFAR-10 Batch 4:  Validation accuracy: 0.449. Cost: 1.171\n",
      "Epoch 43, CIFAR-10 Batch 5:  Validation accuracy: 0.460. Cost: 0.952\n",
      "Epoch 44, CIFAR-10 Batch 1:  Validation accuracy: 0.450. Cost: 0.961\n",
      "Epoch 44, CIFAR-10 Batch 2:  Validation accuracy: 0.454. Cost: 0.999\n",
      "Epoch 44, CIFAR-10 Batch 3:  Validation accuracy: 0.455. Cost: 0.999\n",
      "Epoch 44, CIFAR-10 Batch 4:  Validation accuracy: 0.458. Cost: 1.172\n",
      "Epoch 44, CIFAR-10 Batch 5:  Validation accuracy: 0.454. Cost: 0.968\n",
      "Epoch 45, CIFAR-10 Batch 1:  Validation accuracy: 0.470. Cost: 0.948\n",
      "Epoch 45, CIFAR-10 Batch 2:  Validation accuracy: 0.453. Cost: 1.001\n",
      "Epoch 45, CIFAR-10 Batch 3:  Validation accuracy: 0.464. Cost: 0.968\n",
      "Epoch 45, CIFAR-10 Batch 4:  Validation accuracy: 0.459. Cost: 1.178\n",
      "Epoch 45, CIFAR-10 Batch 5:  Validation accuracy: 0.459. Cost: 0.956\n",
      "Epoch 46, CIFAR-10 Batch 1:  Validation accuracy: 0.455. Cost: 0.931\n",
      "Epoch 46, CIFAR-10 Batch 2:  Validation accuracy: 0.444. Cost: 0.977\n",
      "Epoch 46, CIFAR-10 Batch 3:  Validation accuracy: 0.471. Cost: 0.945\n",
      "Epoch 46, CIFAR-10 Batch 4:  Validation accuracy: 0.460. Cost: 1.136\n",
      "Epoch 46, CIFAR-10 Batch 5:  Validation accuracy: 0.452. Cost: 0.972\n",
      "Epoch 47, CIFAR-10 Batch 1:  Validation accuracy: 0.476. Cost: 0.895\n",
      "Epoch 47, CIFAR-10 Batch 2:  Validation accuracy: 0.459. Cost: 0.980\n",
      "Epoch 47, CIFAR-10 Batch 3:  Validation accuracy: 0.456. Cost: 1.021\n",
      "Epoch 47, CIFAR-10 Batch 4:  Validation accuracy: 0.447. Cost: 1.181\n",
      "Epoch 47, CIFAR-10 Batch 5:  Validation accuracy: 0.455. Cost: 0.951\n",
      "Epoch 48, CIFAR-10 Batch 1:  Validation accuracy: 0.449. Cost: 0.965\n",
      "Epoch 48, CIFAR-10 Batch 2:  Validation accuracy: 0.414. Cost: 1.098\n",
      "Epoch 48, CIFAR-10 Batch 3:  Validation accuracy: 0.450. Cost: 0.975\n"
     ]
    },
    {
     "name": "stdout",
     "output_type": "stream",
     "text": [
      "Epoch 48, CIFAR-10 Batch 4:  Validation accuracy: 0.459. Cost: 1.195\n",
      "Epoch 48, CIFAR-10 Batch 5:  Validation accuracy: 0.458. Cost: 0.915\n",
      "Epoch 49, CIFAR-10 Batch 1:  Validation accuracy: 0.456. Cost: 0.926\n",
      "Epoch 49, CIFAR-10 Batch 2:  Validation accuracy: 0.442. Cost: 1.024\n",
      "Epoch 49, CIFAR-10 Batch 3:  Validation accuracy: 0.449. Cost: 1.009\n",
      "Epoch 49, CIFAR-10 Batch 4:  Validation accuracy: 0.454. Cost: 1.171\n",
      "Epoch 49, CIFAR-10 Batch 5:  Validation accuracy: 0.453. Cost: 0.918\n",
      "Epoch 50, CIFAR-10 Batch 1:  Validation accuracy: 0.460. Cost: 0.895\n",
      "Epoch 50, CIFAR-10 Batch 2:  Validation accuracy: 0.443. Cost: 0.999\n",
      "Epoch 50, CIFAR-10 Batch 3:  Validation accuracy: 0.457. Cost: 0.932\n",
      "Epoch 50, CIFAR-10 Batch 4:  Validation accuracy: 0.452. Cost: 1.165\n",
      "Epoch 50, CIFAR-10 Batch 5:  Validation accuracy: 0.457. Cost: 0.938\n"
     ]
    }
   ],
   "source": [
    "\"\"\"\n",
    "DON'T MODIFY ANYTHING IN THIS CELL\n",
    "\"\"\"\n",
    "save_model_path = './image_classification'\n",
    "\n",
    "print('Training...')\n",
    "with tf.Session() as sess:\n",
    "    # Initializing the variables\n",
    "    sess.run(tf.global_variables_initializer())\n",
    "    \n",
    "    # Training cycle\n",
    "    for epoch in range(epochs):\n",
    "        # Loop over all batches\n",
    "        n_batches = 5\n",
    "        for batch_i in range(1, n_batches + 1):\n",
    "            for batch_features, batch_labels in helper.load_preprocess_training_batch(batch_i, batch_size):\n",
    "                train_neural_network(sess, optimizer, keep_probability, batch_features, batch_labels)\n",
    "            print('Epoch {:>2}, CIFAR-10 Batch {}:  '.format(epoch + 1, batch_i), end='')\n",
    "            print_stats(sess, batch_features, batch_labels, cost, accuracy)\n",
    "            \n",
    "    # Save Model\n",
    "    saver = tf.train.Saver()\n",
    "    save_path = saver.save(sess, save_model_path)"
   ]
  },
  {
   "cell_type": "markdown",
   "metadata": {},
   "source": [
    "# Checkpoint\n",
    "The model has been saved to disk.\n",
    "## Test Model\n",
    "Test your model against the test dataset.  This will be your final accuracy. You should have an accuracy greater than 50%. If you don't, keep tweaking the model architecture and parameters."
   ]
  },
  {
   "cell_type": "code",
   "execution_count": 18,
   "metadata": {
    "scrolled": true
   },
   "outputs": [
    {
     "name": "stdout",
     "output_type": "stream",
     "text": [
      "INFO:tensorflow:Restoring parameters from ./image_classification\n",
      "Testing Accuracy: 0.4623046875\n",
      "\n"
     ]
    },
    {
     "data": {
      "image/png": "[encoded data removed]",
      "text/plain": [
       "<matplotlib.figure.Figure at 0x1211d4390>"
      ]
     },
     "metadata": {
      "image/png": {
       "height": 319,
       "width": 355
      }
     },
     "output_type": "display_data"
    }
   ],
   "source": [
    "\"\"\"\n",
    "DON'T MODIFY ANYTHING IN THIS CELL\n",
    "\"\"\"\n",
    "%matplotlib inline\n",
    "%config InlineBackend.figure_format = 'retina'\n",
    "\n",
    "import tensorflow as tf\n",
    "import pickle\n",
    "import helper\n",
    "import random\n",
    "\n",
    "# Set batch size if not already set\n",
    "try:\n",
    "    if batch_size:\n",
    "        pass\n",
    "except NameError:\n",
    "    batch_size = 64\n",
    "\n",
    "save_model_path = './image_classification'\n",
    "n_samples = 4\n",
    "top_n_predictions = 3\n",
    "\n",
    "def test_model():\n",
    "    \"\"\"\n",
    "    Test the saved model against the test dataset\n",
    "    \"\"\"\n",
    "\n",
    "    test_features, test_labels = pickle.load(open('preprocess_test.p', mode='rb'))\n",
    "    loaded_graph = tf.Graph()\n",
    "\n",
    "    with tf.Session(graph=loaded_graph) as sess:\n",
    "        # Load model\n",
    "        loader = tf.train.import_meta_graph(save_model_path + '.meta')\n",
    "        loader.restore(sess, save_model_path)\n",
    "\n",
    "        # Get Tensors from loaded model\n",
    "        loaded_x = loaded_graph.get_tensor_by_name('x:0')\n",
    "        loaded_y = loaded_graph.get_tensor_by_name('y:0')\n",
    "        loaded_keep_prob = loaded_graph.get_tensor_by_name('keep_prob:0')\n",
    "        loaded_logits = loaded_graph.get_tensor_by_name('logits:0')\n",
    "        loaded_acc = loaded_graph.get_tensor_by_name('accuracy:0')\n",
    "        \n",
    "        # Get accuracy in batches for memory limitations\n",
    "        test_batch_acc_total = 0\n",
    "        test_batch_count = 0\n",
    "        \n",
    "        for test_feature_batch, test_label_batch in helper.batch_features_labels(test_features, test_labels, batch_size):\n",
    "            test_batch_acc_total += sess.run(\n",
    "                loaded_acc,\n",
    "                feed_dict={loaded_x: test_feature_batch, loaded_y: test_label_batch, loaded_keep_prob: 1.0})\n",
    "            test_batch_count += 1\n",
    "\n",
    "        print('Testing Accuracy: {}\\n'.format(test_batch_acc_total/test_batch_count))\n",
    "\n",
    "        # Print Random Samples\n",
    "        random_test_features, random_test_labels = tuple(zip(*random.sample(list(zip(test_features, test_labels)), n_samples)))\n",
    "        random_test_predictions = sess.run(\n",
    "            tf.nn.top_k(tf.nn.softmax(loaded_logits), top_n_predictions),\n",
    "            feed_dict={loaded_x: random_test_features, loaded_y: random_test_labels, loaded_keep_prob: 1.0})\n",
    "        helper.display_image_predictions(random_test_features, random_test_labels, random_test_predictions)\n",
    "\n",
    "\n",
    "test_model()"
   ]
  },
  {
   "cell_type": "markdown",
   "metadata": {},
   "source": [
    "## Why 50-80% Accuracy?\n",
    "You might be wondering why you can't get an accuracy any higher. First things first, 50% isn't bad for a simple CNN.  Pure guessing would get you 10% accuracy. However, you might notice people are getting scores [well above 80%](http://rodrigob.github.io/are_we_there_yet/build/classification_datasets_results.html#43494641522d3130).  That's because we haven't taught you all there is to know about neural networks. We still need to cover a few more techniques.\n",
    "## Submitting This Project\n",
    "When submitting this project, make sure to run all the cells before saving the notebook.  Save the notebook file as \"dlnd_image_classification.ipynb\" and save it as a HTML file under \"File\" -> \"Download as\".  Include the \"helper.py\" and \"problem_unittests.py\" files in your submission."
   ]
  }
 ],
 "metadata": {
  "anaconda-cloud": {},
  "kernelspec": {
   "display_name": "Python [conda env:image-classifier]",
   "language": "python",
   "name": "conda-env-image-classifier-py"
  },
  "language_info": {
   "codemirror_mode": {
    "name": "ipython",
    "version": 3
   },
   "file_extension": ".py",
   "mimetype": "text/x-python",
   "name": "python",
   "nbconvert_exporter": "python",
   "pygments_lexer": "ipython3",
   "version": "3.6.1"
  }
 },
 "nbformat": 4,
 "nbformat_minor": 1
}
